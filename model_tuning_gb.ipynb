{
 "cells": [
  {
   "cell_type": "code",
   "execution_count": 5,
   "id": "initial_id",
   "metadata": {
    "collapsed": true,
    "ExecuteTime": {
     "end_time": "2024-07-18T10:44:57.367645Z",
     "start_time": "2024-07-18T10:32:06.590663Z"
    }
   },
   "outputs": [
    {
     "name": "stdout",
     "output_type": "stream",
     "text": [
      "Fitting 5 folds for each of 100 candidates, totalling 500 fits\n",
      "Best Parameters: {'learning_rate': 0.2, 'max_depth': 5, 'max_features': 'log2', 'min_samples_leaf': 5, 'min_samples_split': 6, 'n_estimators': 259}\n",
      "\n",
      "Classification Report:\n",
      "               precision    recall  f1-score   support\n",
      "\n",
      "         CSP       0.74      0.72      0.73        43\n",
      "         CVP       0.58      0.48      0.53        54\n",
      "         EVP       0.62      0.50      0.55        52\n",
      "         FDP       0.44      0.44      0.44        39\n",
      "         GLP       0.64      0.74      0.69        46\n",
      "         LPS       0.75      0.73      0.74        45\n",
      "         LdU       0.80      0.91      0.85        35\n",
      "         PdA       0.78      0.69      0.73        45\n",
      "          SP       0.74      0.77      0.75        52\n",
      "         SVP       0.49      0.62      0.55        45\n",
      "\n",
      "    accuracy                           0.65       456\n",
      "   macro avg       0.66      0.66      0.66       456\n",
      "weighted avg       0.66      0.65      0.65       456\n",
      "\n",
      "Cross-Validation F1 Weighted Scores: [0.68358728 0.636657   0.67698921 0.63139718 0.59973653]\n",
      "Mean CV F1 Weighted Score: 0.6456734390137787\n"
     ]
    }
   ],
   "source": [
    "import pandas as pd\n",
    "from sklearn.model_selection import train_test_split, RandomizedSearchCV, StratifiedKFold, cross_val_score\n",
    "from sklearn.ensemble import GradientBoostingClassifier\n",
    "from sklearn.metrics import classification_report\n",
    "from sklearn.utils.class_weight import compute_class_weight\n",
    "from imblearn.combine import SMOTEENN\n",
    "from imblearn.under_sampling import RandomUnderSampler\n",
    "from sklearn.preprocessing import PolynomialFeatures\n",
    "from scipy.stats import randint\n",
    "import numpy as np\n",
    "import joblib\n",
    "\n",
    "\n",
    "# Load the dataset\n",
    "data_path = \"/Users/ThaddaeusBraun/Desktop/Data Science in Public Policy/Project/Model/pythonProject/subset.csv\"\n",
    "subset = pd.read_csv(data_path)\n",
    "subset = subset[subset[\"vdn1b\"] != \"PSA\"]\n",
    "\n",
    "# Extract features and target\n",
    "X = subset.drop(['vdn1b'], axis=1)\n",
    "y = subset['vdn1b']\n",
    "\n",
    "# Polynomial Features\n",
    "poly = PolynomialFeatures(degree=2, interaction_only=False, include_bias=False)\n",
    "X_poly = poly.fit_transform(X)\n",
    "\n",
    "# Interaction Feature: Age * Income\n",
    "X_poly_interaction = np.hstack([X_poly, (X['age'].values * X['income'].values).reshape(-1, 1)])\n",
    "\n",
    "# Combine SMOTE and ENN for oversampling and cleaning\n",
    "smote_enn = SMOTEENN(random_state=42)\n",
    "X_resampled, y_resampled = smote_enn.fit_resample(X_poly_interaction, y)\n",
    "\n",
    "# Further handle any class imbalance with random undersampling\n",
    "undersample = RandomUnderSampler(sampling_strategy='auto', random_state=42)\n",
    "X_resampled, y_resampled = undersample.fit_resample(X_resampled, y_resampled)\n",
    "\n",
    "X_train, X_test, y_train, y_test = train_test_split(X_resampled, y_resampled, test_size=0.2, random_state=42)\n",
    "\n",
    "# Define the parameter grid for hyperparameter tuning\n",
    "param_dist = {\n",
    "    'n_estimators': randint(100, 500),\n",
    "    'learning_rate': [0.01, 0.05, 0.1, 0.2],\n",
    "    'max_depth': [3, 5, 10, 20],\n",
    "    'min_samples_split': randint(2, 20),\n",
    "    'min_samples_leaf': randint(1, 20),\n",
    "    'max_features': ['sqrt', 'log2']\n",
    "}\n",
    "\n",
    "# Initialize the model\n",
    "gb_model = GradientBoostingClassifier(random_state=42)\n",
    "\n",
    "# Initialize RandomizedSearchCV with StratifiedKFold\n",
    "stratified_kfold = StratifiedKFold(n_splits=5, shuffle=True, random_state=42)\n",
    "random_search = RandomizedSearchCV(estimator=gb_model, param_distributions=param_dist, n_iter=100, cv=stratified_kfold, n_jobs=-1, random_state=42, verbose=2)\n",
    "\n",
    "# Fit the model\n",
    "random_search.fit(X_train, y_train)\n",
    "\n",
    "# Get the best parameters\n",
    "best_params = random_search.best_params_\n",
    "\n",
    "# Train the model with the best parameters\n",
    "best_model_gb = GradientBoostingClassifier(**best_params, random_state=42)\n",
    "best_model_gb.fit(X_train, y_train)\n",
    "\n",
    "# Make predictions\n",
    "best_predictions = best_model_gb.predict(X_test)\n",
    "\n",
    "# Evaluate the model\n",
    "classification_report_best = classification_report(y_test, best_predictions)\n",
    "\n",
    "# Display the results\n",
    "print(\"Best Parameters:\", best_params)\n",
    "print(\"\\nClassification Report:\\n\", classification_report_best)\n",
    "\n",
    "# Perform cross-validation\n",
    "cv_scores = cross_val_score(best_model_gb, X_resampled, y_resampled, cv=stratified_kfold, scoring='f1_weighted')\n",
    "print(\"\\nCross-Validation F1 Weighted Scores:\", cv_scores)\n",
    "print(\"Mean CV F1 Weighted Score:\", cv_scores.mean())"
   ]
  },
  {
   "cell_type": "code",
   "outputs": [
    {
     "name": "stdout",
     "output_type": "stream",
     "text": [
      "Model saved to /Users/ThaddaeusBraun/Desktop/Data Science in Public Policy/Project/Model/pythonProject/best_rf_model.joblib\n"
     ]
    }
   ],
   "source": [
    "model_path = \"/Users/ThaddaeusBraun/Desktop/Data Science in Public Policy/Project/Model/pythonProject/best_rf_model.joblib\"\n",
    "joblib.dump(best_model_gb, model_path)\n",
    "print(f\"Model saved to {model_path}\")"
   ],
   "metadata": {
    "collapsed": false,
    "ExecuteTime": {
     "end_time": "2024-07-18T11:35:44.867564Z",
     "start_time": "2024-07-18T11:35:44.791027Z"
    }
   },
   "id": "c27dd6928765eef8",
   "execution_count": 6
  },
  {
   "cell_type": "code",
   "outputs": [],
   "source": [],
   "metadata": {
    "collapsed": false
   },
   "id": "9dc440955d0001f9"
  }
 ],
 "metadata": {
  "kernelspec": {
   "display_name": "Python 3",
   "language": "python",
   "name": "python3"
  },
  "language_info": {
   "codemirror_mode": {
    "name": "ipython",
    "version": 2
   },
   "file_extension": ".py",
   "mimetype": "text/x-python",
   "name": "python",
   "nbconvert_exporter": "python",
   "pygments_lexer": "ipython2",
   "version": "2.7.6"
  }
 },
 "nbformat": 4,
 "nbformat_minor": 5
}
