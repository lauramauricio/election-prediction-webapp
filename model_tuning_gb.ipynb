{
 "cells": [
  {
   "cell_type": "code",
   "execution_count": 8,
   "id": "initial_id",
   "metadata": {
    "collapsed": true,
    "ExecuteTime": {
     "end_time": "2024-07-18T14:04:21.056196Z",
     "start_time": "2024-07-18T13:55:11.561627Z"
    }
   },
   "outputs": [
    {
     "name": "stdout",
     "output_type": "stream",
     "text": [
      "Fitting 5 folds for each of 100 candidates, totalling 500 fits\n",
      "Best Parameters: {'learning_rate': 0.05, 'max_depth': 20, 'max_features': 'sqrt', 'min_samples_leaf': 15, 'min_samples_split': 3, 'n_estimators': 421}\n",
      "\n",
      "Classification Report:\n",
      "               precision    recall  f1-score   support\n",
      "\n",
      "         CSP       0.71      0.81      0.75        36\n",
      "         CVP       0.65      0.47      0.55        55\n",
      "         EVP       0.72      0.73      0.73        45\n",
      "         FDP       0.45      0.48      0.47        42\n",
      "         GLP       0.45      0.58      0.51        38\n",
      "         PdA       0.71      0.67      0.69        52\n",
      "          SP       0.74      0.76      0.75        49\n",
      "         SVP       0.56      0.54      0.55        50\n",
      "\n",
      "    accuracy                           0.62       367\n",
      "   macro avg       0.62      0.63      0.62       367\n",
      "weighted avg       0.63      0.62      0.62       367\n",
      "\n",
      "Cross-Validation F1 Weighted Scores: [0.62070375 0.68565948 0.65431078 0.67118738 0.68925202]\n",
      "Mean CV F1 Weighted Score: 0.6642226831592553\n"
     ]
    }
   ],
   "source": [
    "import pandas as pd\n",
    "from sklearn.model_selection import train_test_split, RandomizedSearchCV, StratifiedKFold, cross_val_score\n",
    "from sklearn.ensemble import GradientBoostingClassifier\n",
    "from sklearn.metrics import classification_report\n",
    "from sklearn.utils.class_weight import compute_class_weight\n",
    "from imblearn.combine import SMOTEENN\n",
    "from imblearn.under_sampling import RandomUnderSampler\n",
    "from sklearn.preprocessing import PolynomialFeatures\n",
    "from scipy.stats import randint\n",
    "import numpy as np\n",
    "import joblib\n",
    "\n",
    "\n",
    "# Load the dataset\n",
    "data_path = \"/Users/ThaddaeusBraun/Desktop/Data Science in Public Policy/Project/Model/pythonProject/subset_parties_model.csv\"\n",
    "subset = pd.read_csv(data_path)\n",
    "\n",
    "# Extract features and target\n",
    "X = subset.drop(['vdn1b'], axis=1)\n",
    "y = subset['vdn1b']\n",
    "\n",
    "# Polynomial Features\n",
    "poly = PolynomialFeatures(degree=2, interaction_only=False, include_bias=False)\n",
    "X_poly = poly.fit_transform(X)\n",
    "\n",
    "# Interaction Feature: Age * Income\n",
    "X_poly_interaction = np.hstack([X_poly, (X['age'].values * X['income'].values).reshape(-1, 1)])\n",
    "\n",
    "# Combine SMOTE and ENN for oversampling and cleaning\n",
    "smote_enn = SMOTEENN(random_state=42)\n",
    "X_resampled, y_resampled = smote_enn.fit_resample(X_poly_interaction, y)\n",
    "\n",
    "# Further handle any class imbalance with random undersampling\n",
    "undersample = RandomUnderSampler(sampling_strategy='auto', random_state=42)\n",
    "X_resampled, y_resampled = undersample.fit_resample(X_resampled, y_resampled)\n",
    "\n",
    "X_train, X_test, y_train, y_test = train_test_split(X_resampled, y_resampled, test_size=0.2, random_state=42)\n",
    "\n",
    "# Define the parameter grid for hyperparameter tuning\n",
    "param_dist = {\n",
    "    'n_estimators': randint(100, 500),\n",
    "    'learning_rate': [0.01, 0.05, 0.1, 0.2],\n",
    "    'max_depth': [3, 5, 10, 20],\n",
    "    'min_samples_split': randint(2, 20),\n",
    "    'min_samples_leaf': randint(1, 20),\n",
    "    'max_features': ['sqrt', 'log2']\n",
    "}\n",
    "\n",
    "# Initialize the model\n",
    "gb_model = GradientBoostingClassifier(random_state=42)\n",
    "\n",
    "# Initialize RandomizedSearchCV with StratifiedKFold\n",
    "stratified_kfold = StratifiedKFold(n_splits=5, shuffle=True, random_state=42)\n",
    "random_search = RandomizedSearchCV(estimator=gb_model, param_distributions=param_dist, n_iter=100, cv=stratified_kfold, n_jobs=-1, random_state=42, verbose=2)\n",
    "\n",
    "# Fit the model\n",
    "random_search.fit(X_train, y_train)\n",
    "\n",
    "# Get the best parameters\n",
    "best_params = random_search.best_params_\n",
    "\n",
    "# Train the model with the best parameters\n",
    "best_model_gb = GradientBoostingClassifier(**best_params, random_state=42)\n",
    "best_model_gb.fit(X_train, y_train)\n",
    "\n",
    "# Make predictions\n",
    "best_predictions = best_model_gb.predict(X_test)\n",
    "\n",
    "# Evaluate the model\n",
    "classification_report_best = classification_report(y_test, best_predictions)\n",
    "\n",
    "# Display the results\n",
    "print(\"Best Parameters:\", best_params)\n",
    "print(\"\\nClassification Report:\\n\", classification_report_best)\n",
    "\n",
    "# Perform cross-validation\n",
    "cv_scores = cross_val_score(best_model_gb, X_resampled, y_resampled, cv=stratified_kfold, scoring='f1_weighted')\n",
    "print(\"\\nCross-Validation F1 Weighted Scores:\", cv_scores)\n",
    "print(\"Mean CV F1 Weighted Score:\", cv_scores.mean())"
   ]
  },
  {
   "cell_type": "code",
   "outputs": [
    {
     "name": "stdout",
     "output_type": "stream",
     "text": [
      "Model saved to /Users/ThaddaeusBraun/Desktop/Data Science in Public Policy/Project/Model/pythonProject/best_rf_model.joblib\n"
     ]
    }
   ],
   "source": [
    "model_path = \"/Users/ThaddaeusBraun/Desktop/Data Science in Public Policy/Project/Model/pythonProject/best_rf_model.joblib\"\n",
    "joblib.dump(best_model_gb, model_path)\n",
    "print(f\"Model saved to {model_path}\")"
   ],
   "metadata": {
    "collapsed": false,
    "ExecuteTime": {
     "end_time": "2024-07-18T14:30:16.226257Z",
     "start_time": "2024-07-18T14:30:15.984257Z"
    }
   },
   "id": "c27dd6928765eef8",
   "execution_count": 9
  },
  {
   "cell_type": "code",
   "outputs": [],
   "source": [],
   "metadata": {
    "collapsed": false
   },
   "id": "a9160b060131462b"
  }
 ],
 "metadata": {
  "kernelspec": {
   "display_name": "Python 3",
   "language": "python",
   "name": "python3"
  },
  "language_info": {
   "codemirror_mode": {
    "name": "ipython",
    "version": 2
   },
   "file_extension": ".py",
   "mimetype": "text/x-python",
   "name": "python",
   "nbconvert_exporter": "python",
   "pygments_lexer": "ipython2",
   "version": "2.7.6"
  }
 },
 "nbformat": 4,
 "nbformat_minor": 5
}
