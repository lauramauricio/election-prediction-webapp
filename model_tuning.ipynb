{
 "cells": [
  {
   "cell_type": "code",
   "outputs": [
    {
     "name": "stdout",
     "output_type": "stream",
     "text": [
      "Fitting 5 folds for each of 100 candidates, totalling 500 fits\n",
      "Best Parameters: {'max_depth': 30, 'max_features': 'sqrt', 'min_samples_leaf': 1, 'min_samples_split': 2, 'n_estimators': 267}\n",
      "\n",
      "Classification Report:\n",
      "               precision    recall  f1-score   support\n",
      "\n",
      "         CSP       0.71      0.87      0.78        47\n",
      "         CVP       0.59      0.48      0.53        60\n",
      "         EVP       0.65      0.51      0.57        51\n",
      "         FDP       0.61      0.34      0.44        41\n",
      "         GLP       0.57      0.72      0.64        43\n",
      "         LPS       0.60      0.77      0.67        47\n",
      "         LdU       0.73      0.89      0.80        46\n",
      "         PdA       0.65      0.62      0.64        45\n",
      "          SP       0.64      0.64      0.64        45\n",
      "         SVP       0.50      0.47      0.48        43\n",
      "\n",
      "    accuracy                           0.63       468\n",
      "   macro avg       0.63      0.63      0.62       468\n",
      "weighted avg       0.63      0.63      0.62       468\n",
      "\n",
      "Cross-Validation F1 Weighted Scores: [0.58475545 0.62324106 0.62626253 0.58413303 0.60513686]\n",
      "Mean CV F1 Weighted Score: 0.604705786128113\n"
     ]
    }
   ],
   "source": [
    "import pandas as pd\n",
    "from sklearn.model_selection import train_test_split, RandomizedSearchCV, StratifiedKFold, cross_val_score\n",
    "from sklearn.ensemble import RandomForestClassifier\n",
    "from sklearn.metrics import classification_report\n",
    "from sklearn.utils.class_weight import compute_class_weight\n",
    "from imblearn.combine import SMOTEENN\n",
    "from imblearn.under_sampling import RandomUnderSampler\n",
    "from scipy.stats import randint\n",
    "import numpy as np\n",
    "import joblib\n",
    "\n",
    "# Load the dataset\n",
    "data_path = \"/Users/ThaddaeusBraun/Desktop/Data Science in Public Policy/Project/Model/pythonProject/subset.csv\"\n",
    "subset = pd.read_csv(data_path)\n",
    "subset = subset[subset[\"vdn1b\"]!= \"PSA\"]\n",
    "\n",
    "# Split the data into features and target\n",
    "X = subset.drop(['vdn1b'], axis=1) \n",
    "y = subset['vdn1b']\n",
    "\n",
    "# Combine SMOTE and ENN for oversampling and cleaning\n",
    "smote_enn = SMOTEENN(random_state=42)\n",
    "X_resampled, y_resampled = smote_enn.fit_resample(X, y)\n",
    "\n",
    "# Further handle any class imbalance with random undersampling\n",
    "undersample = RandomUnderSampler(sampling_strategy='auto', random_state=42)\n",
    "X_resampled, y_resampled = undersample.fit_resample(X_resampled, y_resampled)\n",
    "\n",
    "X_train, X_test, y_train, y_test = train_test_split(X_resampled, y_resampled, test_size=0.2, random_state=42)\n",
    "\n",
    "# Compute class weights\n",
    "class_weights = compute_class_weight(class_weight='balanced', classes=np.unique(y_resampled), y=y_resampled)\n",
    "class_weights = dict(zip(np.unique(y_resampled), class_weights))\n",
    "\n",
    "# Define the parameter grid for hyperparameter tuning\n",
    "param_dist = {\n",
    "    'n_estimators': randint(100, 500),\n",
    "    'max_depth': [None, 10, 20, 30, 40, 50],\n",
    "    'min_samples_split': randint(2, 20),\n",
    "    'min_samples_leaf': randint(1, 20),\n",
    "    'max_features': ['sqrt', 'log2']\n",
    "}\n",
    "\n",
    "# Initialize the model\n",
    "rf_model = RandomForestClassifier(random_state=42, class_weight=class_weights)\n",
    "\n",
    "# Initialize RandomizedSearchCV with StratifiedKFold\n",
    "stratified_kfold = StratifiedKFold(n_splits=5, shuffle=True, random_state=42)\n",
    "random_search = RandomizedSearchCV(estimator=rf_model, param_distributions=param_dist, n_iter=100, cv=stratified_kfold, n_jobs=-1, random_state=42, verbose=2)\n",
    "\n",
    "# Fit the model\n",
    "random_search.fit(X_train, y_train)\n",
    "\n",
    "# Get the best parameters\n",
    "best_params = random_search.best_params_\n",
    "\n",
    "# Train the model with the best parameters\n",
    "best_model = RandomForestClassifier(**best_params, random_state=42, class_weight=class_weights)\n",
    "best_model.fit(X_train, y_train)\n",
    "\n",
    "# Make predictions\n",
    "best_predictions = best_model.predict(X_test)\n",
    "\n",
    "# Evaluate the model\n",
    "classification_report_best = classification_report(y_test, best_predictions)\n",
    "\n",
    "# Display the results\n",
    "print(\"Best Parameters:\", best_params)\n",
    "print(\"\\nClassification Report:\\n\", classification_report_best)\n",
    "\n",
    "# Perform cross-validation\n",
    "cv_scores = cross_val_score(best_model, X_resampled, y_resampled, cv=stratified_kfold, scoring='f1_weighted')\n",
    "print(\"\\nCross-Validation F1 Weighted Scores:\", cv_scores)\n",
    "print(\"Mean CV F1 Weighted Score:\", cv_scores.mean())"
   ],
   "metadata": {
    "collapsed": false,
    "ExecuteTime": {
     "end_time": "2024-07-18T09:49:29.142015Z",
     "start_time": "2024-07-18T09:49:06.984838Z"
    }
   },
   "execution_count": 25
  },
  {
   "cell_type": "code",
   "outputs": [
    {
     "name": "stdout",
     "output_type": "stream",
     "text": [
      "Model saved to /Users/ThaddaeusBraun/Desktop/Data Science in Public Policy/Project/Model/pythonProject/best_rf_model.joblib\n"
     ]
    }
   ],
   "source": [
    "# Save the model\n",
    "model_path = \"/Users/ThaddaeusBraun/Desktop/Data Science in Public Policy/Project/Model/pythonProject/best_rf_model.joblib\"\n",
    "joblib.dump(best_model, model_path)\n",
    "print(f\"Model saved to {model_path}\")"
   ],
   "metadata": {
    "collapsed": false,
    "ExecuteTime": {
     "end_time": "2024-07-18T09:53:48.366353Z",
     "start_time": "2024-07-18T09:53:48.290868Z"
    }
   },
   "execution_count": 26
  },
  {
   "cell_type": "code",
   "outputs": [],
   "source": [],
   "metadata": {
    "collapsed": false
   }
  }
 ],
 "metadata": {
  "language_info": {
   "name": "python"
  },
  "kernelspec": {
   "name": "python3",
   "language": "python",
   "display_name": "Python 3 (ipykernel)"
  }
 },
 "nbformat": 4,
 "nbformat_minor": 2
}
