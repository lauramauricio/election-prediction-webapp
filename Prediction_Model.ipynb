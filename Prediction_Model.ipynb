{
  "nbformat": 4,
  "nbformat_minor": 0,
  "metadata": {
    "colab": {
      "provenance": [],
      "authorship_tag": "ABX9TyO9WDjg6nELef/arbuOCYE9",
      "include_colab_link": true
    },
    "kernelspec": {
      "name": "python3",
      "display_name": "Python 3"
    },
    "language_info": {
      "name": "python"
    }
  },
  "cells": [
    {
      "cell_type": "markdown",
      "metadata": {
        "id": "view-in-github",
        "colab_type": "text"
      },
      "source": [
        "<a href=\"https://colab.research.google.com/github/lauramauricio/election-prediction-webapp/blob/main/Prediction_Model.ipynb\" target=\"_parent\"><img src=\"https://colab.research.google.com/assets/colab-badge.svg\" alt=\"Open In Colab\"/></a>"
      ]
    },
    {
      "cell_type": "code",
      "source": [
        "#Import drive\n",
        "from google.colab import drive\n",
        "#Mount Google Drive\n",
        "ROOT=\"/content/drive\"\n",
        "drive.mount(ROOT, force_remount=True)"
      ],
      "metadata": {
        "colab": {
          "base_uri": "https://localhost:8080/"
        },
        "id": "QYYEcsc1YQL2",
        "outputId": "69d04d4b-8f65-408b-8e7a-a52a0b2fd790"
      },
      "execution_count": 23,
      "outputs": [
        {
          "output_type": "stream",
          "name": "stdout",
          "text": [
            "Mounted at /content/drive\n"
          ]
        }
      ]
    },
    {
      "cell_type": "code",
      "execution_count": 26,
      "metadata": {
        "colab": {
          "base_uri": "https://localhost:8080/"
        },
        "id": "0dM0A4sbYMP1",
        "outputId": "164d42d1-d79d-4b02-e148-d5b87e4b5b9c"
      },
      "outputs": [
        {
          "output_type": "stream",
          "name": "stdout",
          "text": [
            "Requirement already satisfied: dash in /usr/local/lib/python3.10/dist-packages (2.17.1)\n",
            "Requirement already satisfied: Flask<3.1,>=1.0.4 in /usr/local/lib/python3.10/dist-packages (from dash) (2.2.5)\n",
            "Requirement already satisfied: Werkzeug<3.1 in /usr/local/lib/python3.10/dist-packages (from dash) (3.0.3)\n",
            "Requirement already satisfied: plotly>=5.0.0 in /usr/local/lib/python3.10/dist-packages (from dash) (5.15.0)\n",
            "Requirement already satisfied: dash-html-components==2.0.0 in /usr/local/lib/python3.10/dist-packages (from dash) (2.0.0)\n",
            "Requirement already satisfied: dash-core-components==2.0.0 in /usr/local/lib/python3.10/dist-packages (from dash) (2.0.0)\n",
            "Requirement already satisfied: dash-table==5.0.0 in /usr/local/lib/python3.10/dist-packages (from dash) (5.0.0)\n",
            "Requirement already satisfied: importlib-metadata in /usr/local/lib/python3.10/dist-packages (from dash) (8.0.0)\n",
            "Requirement already satisfied: typing-extensions>=4.1.1 in /usr/local/lib/python3.10/dist-packages (from dash) (4.12.2)\n",
            "Requirement already satisfied: requests in /usr/local/lib/python3.10/dist-packages (from dash) (2.31.0)\n",
            "Requirement already satisfied: retrying in /usr/local/lib/python3.10/dist-packages (from dash) (1.3.4)\n",
            "Requirement already satisfied: nest-asyncio in /usr/local/lib/python3.10/dist-packages (from dash) (1.6.0)\n",
            "Requirement already satisfied: setuptools in /usr/local/lib/python3.10/dist-packages (from dash) (67.7.2)\n",
            "Requirement already satisfied: Jinja2>=3.0 in /usr/local/lib/python3.10/dist-packages (from Flask<3.1,>=1.0.4->dash) (3.1.4)\n",
            "Requirement already satisfied: itsdangerous>=2.0 in /usr/local/lib/python3.10/dist-packages (from Flask<3.1,>=1.0.4->dash) (2.2.0)\n",
            "Requirement already satisfied: click>=8.0 in /usr/local/lib/python3.10/dist-packages (from Flask<3.1,>=1.0.4->dash) (8.1.7)\n",
            "Requirement already satisfied: tenacity>=6.2.0 in /usr/local/lib/python3.10/dist-packages (from plotly>=5.0.0->dash) (8.4.2)\n",
            "Requirement already satisfied: packaging in /usr/local/lib/python3.10/dist-packages (from plotly>=5.0.0->dash) (24.1)\n",
            "Requirement already satisfied: MarkupSafe>=2.1.1 in /usr/local/lib/python3.10/dist-packages (from Werkzeug<3.1->dash) (2.1.5)\n",
            "Requirement already satisfied: zipp>=0.5 in /usr/local/lib/python3.10/dist-packages (from importlib-metadata->dash) (3.19.2)\n",
            "Requirement already satisfied: charset-normalizer<4,>=2 in /usr/local/lib/python3.10/dist-packages (from requests->dash) (3.3.2)\n",
            "Requirement already satisfied: idna<4,>=2.5 in /usr/local/lib/python3.10/dist-packages (from requests->dash) (3.7)\n",
            "Requirement already satisfied: urllib3<3,>=1.21.1 in /usr/local/lib/python3.10/dist-packages (from requests->dash) (2.0.7)\n",
            "Requirement already satisfied: certifi>=2017.4.17 in /usr/local/lib/python3.10/dist-packages (from requests->dash) (2024.6.2)\n",
            "Requirement already satisfied: six>=1.7.0 in /usr/local/lib/python3.10/dist-packages (from retrying->dash) (1.16.0)\n"
          ]
        },
        {
          "output_type": "stream",
          "name": "stderr",
          "text": [
            "<ipython-input-26-9ccd0f207f38>:11: DtypeWarning:\n",
            "\n",
            "Columns (11,14,19,20) have mixed types. Specify dtype option on import or set low_memory=False.\n",
            "\n"
          ]
        },
        {
          "output_type": "stream",
          "name": "stdout",
          "text": [
            "              precision    recall  f1-score   support\n",
            "\n",
            "        39.0       1.00      1.00      1.00      1994\n",
            "        41.0       1.00      1.00      1.00       606\n",
            "        43.0       1.00      1.00      1.00      2876\n",
            "        46.0       1.00      1.00      1.00      1953\n",
            "        51.0       1.00      1.00      1.00      1242\n",
            "        52.0       1.00      1.00      1.00      1760\n",
            "        54.0       1.00      1.00      1.00      2284\n",
            "        55.0       1.00      1.00      1.00       376\n",
            "\n",
            "    accuracy                           1.00     13091\n",
            "   macro avg       1.00      1.00      1.00     13091\n",
            "weighted avg       1.00      1.00      1.00     13091\n",
            "\n"
          ]
        }
      ],
      "source": [
        "!pip install dash\n",
        "\n",
        "from dash import Dash, html, dcc, callback, Output, Input\n",
        "import pandas as pd\n",
        "from sklearn.model_selection import train_test_split\n",
        "from sklearn.ensemble import RandomForestClassifier\n",
        "import plotly.express as px\n",
        "\n",
        "# Load the dataset\n",
        "data_path = '/content/merged_dataset.csv'  # Replace with the actual path to your dataset\n",
        "df = pd.read_csv(data_path)\n",
        "\n",
        "# Preprocess the data\n",
        "df = pd.get_dummies(df)\n",
        "\n",
        "# Fill missing values\n",
        "df = df.dropna()  # or df.fillna(df.mean())\n",
        "\n",
        "# Split the data into features and target\n",
        "X = df.drop('total_gewahlt', axis=1)\n",
        "y = df['total_gewahlt']\n",
        "\n",
        "# Train the Random Forest model\n",
        "X_train, X_test, y_train, y_test = train_test_split(X, y, test_size=0.3, random_state=42)\n",
        "rf_model = RandomForestClassifier(n_estimators=100, random_state=42)\n",
        "rf_model.fit(X_train, y_train)\n",
        "\n",
        "# Make predictions\n",
        "predictions = rf_model.predict(X_test)\n",
        "\n",
        "# Print classification report\n",
        "print(classification_report(y_test, predictions))\n",
        "\n"
      ]
    },
    {
      "cell_type": "code",
      "source": [
        "\n",
        "# Initialize the Dash app\n",
        "app = Dash(__name__)\n",
        "\n",
        "# Define the app layout\n",
        "app.layout = html.Div([\n",
        "    html.H1(children='Voteshare Prediction App', style={'textAlign': 'center'}),\n",
        "    dcc.Dropdown(\n",
        "        id='characteristics-dropdown',\n",
        "        options=[{'label': col, 'value': col} for col in X.columns],\n",
        "        value=[X.columns[0]],  # Default to the first column, must be a list for multi=True\n",
        "        multi=True\n",
        "    ),\n",
        "    dcc.Graph(id='prediction-graph')\n",
        "])\n",
        "\n",
        "# Define callback to update graph based on selected characteristics\n",
        "@callback(\n",
        "    Output('prediction-graph', 'figure'),\n",
        "    Input('characteristics-dropdown', 'value')\n",
        ")\n",
        "def update_graph(selected_features):\n",
        "    print(\"Selected features:\", selected_features)  # Debugging statement\n",
        "    if not selected_features:\n",
        "        selected_features = [X.columns[0]]  # Default to first feature if none selected\n",
        "\n",
        "    try:\n",
        "        df_filtered = df[selected_features]\n",
        "        print(\"Filtered DataFrame:\", df_filtered.head())  # Debugging statement\n",
        "        predictions = rf_model.predict(df_filtered)\n",
        "        df_filtered['Predicted Vote'] = predictions\n",
        "\n",
        "        # Create a scatter plot to visualize the predictions\n",
        "        fig = px.scatter(df_filtered, x=selected_features[0], y='Predicted Vote', title='Predicted Voteshare')\n",
        "    except Exception as e:\n",
        "        print(\"Error during prediction or graph update:\", e)\n",
        "        fig = px.scatter(title='Error in generating plot')\n",
        "\n",
        "    return fig\n",
        "\n",
        "# Run the app\n",
        "if __name__ == '__main__':\n",
        "    app.run_server(debug=True, port=8050)\n"
      ],
      "metadata": {
        "id": "LXPfSd54dXZ7"
      },
      "execution_count": null,
      "outputs": []
    }
  ]
}